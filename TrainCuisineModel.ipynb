{
 "cells": [
  {
   "cell_type": "code",
   "execution_count": 68,
   "metadata": {},
   "outputs": [],
   "source": [
    "import pandas as pd\n",
    "import numpy as np\n",
    "\n",
    "from nltk.tokenize import RegexpTokenizer\n",
    "from nltk.stem.wordnet import WordNetLemmatizer\n",
    "\n",
    "from gensim.models.coherencemodel import CoherenceModel\n",
    "from gensim.models.ldamodel import LdaModel\n",
    "from gensim.corpora.dictionary import Dictionary"
   ]
  },
  {
   "cell_type": "code",
   "execution_count": 41,
   "metadata": {},
   "outputs": [],
   "source": [
    "df = pd.read_json('data/unlabelled_recipies.json')"
   ]
  },
  {
   "cell_type": "code",
   "execution_count": 42,
   "metadata": {},
   "outputs": [],
   "source": [
    "df['number_of_ingredients'] = df['ingredients'].apply(len)"
   ]
  },
  {
   "cell_type": "code",
   "execution_count": 43,
   "metadata": {},
   "outputs": [],
   "source": [
    "# tokenize each ingredient\n",
    "tokenizer = RegexpTokenizer(r'\\w+')\n",
    "df['tokenized_ingredients'] = df['ingredients'].apply(str)\n",
    "df['tokenized_ingredients'] = df['tokenized_ingredients'].apply(tokenizer.tokenize)"
   ]
  },
  {
   "cell_type": "code",
   "execution_count": 44,
   "metadata": {},
   "outputs": [
    {
     "data": {
      "text/plain": [
       "ingredients              [pepper, bacon, russet potatoes, sugar, onions...\n",
       "number_of_ingredients                                                   11\n",
       "tokenized_ingredients    [pepper, bacon, russet, potatoes, sugar, onion...\n",
       "Name: 0, dtype: object"
      ]
     },
     "execution_count": 44,
     "metadata": {},
     "output_type": "execute_result"
    }
   ],
   "source": [
    "df.iloc[0]"
   ]
  },
  {
   "cell_type": "code",
   "execution_count": 45,
   "metadata": {},
   "outputs": [],
   "source": [
    "# remove numbers but not words with numbers\n",
    "def remove_numbers(doc):\n",
    "    return [token for token in doc if not token.isdigit()]\n",
    "df['tokenized_ingredients'] = df['tokenized_ingredients'].apply(remove_numbers)"
   ]
  },
  {
   "cell_type": "code",
   "execution_count": 46,
   "metadata": {},
   "outputs": [],
   "source": [
    "# Remove words that are only one character.\n",
    "def remove_onechar_word(doc):\n",
    "    return [token for token in doc if len(token) > 3]\n",
    "df['tokenized_ingredients'] = df['tokenized_ingredients'].apply(remove_onechar_word)"
   ]
  },
  {
   "cell_type": "code",
   "execution_count": 47,
   "metadata": {},
   "outputs": [],
   "source": [
    "# Lemmatize all words in documents.\n",
    "lemmatizer = WordNetLemmatizer()\n",
    "def lemmatize_tokens(doc):\n",
    "    return [lemmatizer.lemmatize(token) for token in doc]\n",
    "df['tokenized_ingredients'] = df['tokenized_ingredients'].apply(lemmatize_tokens)"
   ]
  },
  {
   "cell_type": "code",
   "execution_count": 48,
   "metadata": {},
   "outputs": [],
   "source": [
    "#Create Biagram & Trigram Models \n",
    "from gensim.models import Phrases\n",
    "bigram = Phrases(df['tokenized_ingredients'], min_count=2)\n",
    "trigram = Phrases(bigram[df['tokenized_ingredients']], min_count=2)"
   ]
  },
  {
   "cell_type": "code",
   "execution_count": 49,
   "metadata": {},
   "outputs": [],
   "source": [
    "def get_bigrams_and_trigrams(doc):\n",
    "    return trigram[doc]\n",
    "    \n",
    "df['tokenized_ingredients'] = df['tokenized_ingredients'].apply(get_bigrams_and_trigrams)"
   ]
  },
  {
   "cell_type": "code",
   "execution_count": 52,
   "metadata": {},
   "outputs": [],
   "source": [
    "df['number_of_ingredients'] = df['tokenized_ingredients'].apply(len)"
   ]
  },
  {
   "cell_type": "code",
   "execution_count": 62,
   "metadata": {},
   "outputs": [
    {
     "data": {
      "text/plain": [
       "12200                   [water]\n",
       "12457              [sushi_rice]\n",
       "12673            [konbu_bonito]\n",
       "14807                  [butter]\n",
       "20540            [pastry_dough]\n",
       "2067                  [grained]\n",
       "21177           [corn_tortilla]\n",
       "22908         [unsalted_butter]\n",
       "23371            [plain_yogurt]\n",
       "24568                  [phyllo]\n",
       "27348         [spanish_chorizo]\n",
       "31568         [unsalted_butter]\n",
       "34467                  [butter]\n",
       "38426    [lemonade_concentrate]\n",
       "451                      [udon]\n",
       "5162                   [butter]\n",
       "5615          [unsalted_butter]\n",
       "7875             [jasmine_rice]\n",
       "9701                [vegetable]\n",
       "Name: tokenized_ingredients, dtype: object"
      ]
     },
     "execution_count": 62,
     "metadata": {},
     "output_type": "execute_result"
    }
   ],
   "source": [
    "df[df['number_of_ingredients']<=1]['tokenized_ingredients']"
   ]
  },
  {
   "cell_type": "code",
   "execution_count": 64,
   "metadata": {},
   "outputs": [],
   "source": [
    "# drop recipes with one ingredient\n",
    "index_to_drop = df[df['number_of_ingredients']<=1].index\n",
    "df.drop(index_to_drop, inplace=True)"
   ]
  },
  {
   "cell_type": "code",
   "execution_count": 132,
   "metadata": {},
   "outputs": [
    {
     "name": "stdout",
     "output_type": "stream",
     "text": [
      "Number of unique tokens: 820\n",
      "Number of documents: 39755\n",
      "[(0, 1), (1, 1), (2, 1), (3, 1), (4, 1), (5, 1), (6, 1), (7, 1), (8, 1), (9, 1), (10, 1)]\n"
     ]
    }
   ],
   "source": [
    "# Create a dictionary representation of the recipe ingredients.\n",
    "dictionary = Dictionary(df['tokenized_ingredients'])\n",
    "dictionary.filter_extremes(no_below=50, no_above=0.8)\n",
    "#Create dictionary and corpus required for Topic Modeling\n",
    "corpus = [dictionary.doc2bow(doc['tokenized_ingredients']) for i, doc in df.iterrows()]\n",
    "\n",
    "print('Number of unique tokens: %d' % len(dictionary))\n",
    "print('Number of documents: %d' % len(corpus))\n",
    "print(corpus[0])"
   ]
  },
  {
   "cell_type": "code",
   "execution_count": 133,
   "metadata": {},
   "outputs": [],
   "source": [
    "# SET LDA parameters\n",
    "num_topics = 10\n",
    "chunksize = 500 \n",
    "passes = 20 \n",
    "iterations = 400\n",
    "eval_every = 1 \n",
    "\n",
    "# Make a index to word dictionary.\n",
    "temp = dictionary[0] # only to \"load\" the dictionary.\n",
    "id2word = dictionary.id2token\n",
    "\n",
    "#Learn an LDA model\n",
    "lda_model = LdaModel(corpus=corpus, id2word=id2word, chunksize=chunksize, \\\n",
    "                       alpha='auto', eta='auto', \\\n",
    "                       iterations=iterations, num_topics=num_topics, \\\n",
    "                       passes=passes, eval_every=eval_every)"
   ]
  },
  {
   "cell_type": "code",
   "execution_count": 134,
   "metadata": {},
   "outputs": [
    {
     "name": "stdout",
     "output_type": "stream",
     "text": [
      "(0, '0.203*\"fresh\" + 0.149*\"juice\" + 0.106*\"cilantro\" + 0.097*\"lemon\" + 0.095*\"lime\" + 0.046*\"chopped\" + 0.032*\"jalapeno_chilies\" + 0.025*\"orange\" + 0.021*\"avocado\" + 0.018*\"peeled\"')\n",
      "\n",
      "\n",
      "(1, '0.138*\"olive\" + 0.096*\"fresh\" + 0.050*\"wine\" + 0.046*\"parsley\" + 0.038*\"cheese\" + 0.033*\"tomato\" + 0.032*\"basil\" + 0.030*\"leaf\" + 0.029*\"extra_virgin\" + 0.028*\"clove\"')\n",
      "\n",
      "\n",
      "(2, '0.085*\"cinnamon\" + 0.072*\"ground\" + 0.050*\"honey\" + 0.040*\"nutmeg\" + 0.032*\"sugar\" + 0.031*\"almond\" + 0.030*\"plain_yogurt\" + 0.029*\"brown\" + 0.026*\"powdered\" + 0.024*\"light_brown\"')\n",
      "\n",
      "\n",
      "(3, '0.289*\"powder\" + 0.137*\"cumin\" + 0.117*\"chili\" + 0.089*\"paprika\" + 0.053*\"chile\" + 0.028*\"mirin\" + 0.023*\"roasted\" + 0.021*\"dried_oregano\" + 0.020*\"cayenne\" + 0.020*\"enchilada\"')\n",
      "\n",
      "\n",
      "(4, '0.076*\"buttermilk\" + 0.064*\"cucumber\" + 0.063*\"mint\" + 0.050*\"bread\" + 0.046*\"yeast\" + 0.041*\"warm_water\" + 0.040*\"cornmeal\" + 0.037*\"apple\" + 0.031*\"tomatillo\" + 0.026*\"grape\"')\n",
      "\n",
      "\n",
      "(5, '0.105*\"pepper\" + 0.077*\"onion\" + 0.077*\"salt\" + 0.067*\"garlic\" + 0.061*\"ground\" + 0.048*\"chicken\" + 0.041*\"black\" + 0.035*\"green\" + 0.029*\"tomato\" + 0.025*\"water\"')\n",
      "\n",
      "\n",
      "(6, '0.055*\"cumin\" + 0.053*\"coriander\" + 0.049*\"ginger\" + 0.046*\"coconut\" + 0.040*\"powder\" + 0.039*\"seed\" + 0.038*\"curry\" + 0.037*\"leaf\" + 0.028*\"chili\" + 0.027*\"masala\"')\n",
      "\n",
      "\n",
      "(7, '0.119*\"sugar\" + 0.093*\"egg\" + 0.075*\"butter\" + 0.074*\"large\" + 0.066*\"purpose_flour\" + 0.060*\"salt\" + 0.054*\"milk\" + 0.045*\"flour\" + 0.041*\"unsalted_butter\" + 0.037*\"water\"')\n",
      "\n",
      "\n",
      "(8, '0.230*\"sauce\" + 0.070*\"sugar\" + 0.062*\"sesame\" + 0.060*\"ginger\" + 0.055*\"rice\" + 0.047*\"vinegar\" + 0.037*\"brown\" + 0.028*\"fish\" + 0.025*\"chili\" + 0.024*\"peanut\"')\n",
      "\n",
      "\n",
      "(9, '0.218*\"cheese\" + 0.051*\"sour_cream\" + 0.031*\"sauce\" + 0.030*\"tortilla\" + 0.029*\"salsa\" + 0.029*\"corn_tortilla\" + 0.022*\"shredded\" + 0.021*\"cheddar\" + 0.020*\"flour\" + 0.020*\"shredded_cheddar\"')\n",
      "\n",
      "\n"
     ]
    }
   ],
   "source": [
    "topics = lda_model.print_topics()\n",
    "for topic in topics:\n",
    "    print(topic)\n",
    "    print('\\n')"
   ]
  },
  {
   "cell_type": "code",
   "execution_count": 167,
   "metadata": {},
   "outputs": [],
   "source": [
    "# get topic number and probability of each topic for each document/recipe\n",
    "topics = (lda_model.get_document_topics(corpus))"
   ]
  },
  {
   "cell_type": "code",
   "execution_count": 175,
   "metadata": {},
   "outputs": [
    {
     "data": {
      "text/html": [
       "<div>\n",
       "<style scoped>\n",
       "    .dataframe tbody tr th:only-of-type {\n",
       "        vertical-align: middle;\n",
       "    }\n",
       "\n",
       "    .dataframe tbody tr th {\n",
       "        vertical-align: top;\n",
       "    }\n",
       "\n",
       "    .dataframe thead th {\n",
       "        text-align: right;\n",
       "    }\n",
       "</style>\n",
       "<table border=\"1\" class=\"dataframe\">\n",
       "  <thead>\n",
       "    <tr style=\"text-align: right;\">\n",
       "      <th></th>\n",
       "      <th>ingredients</th>\n",
       "      <th>number_of_ingredients</th>\n",
       "      <th>tokenized_ingredients</th>\n",
       "      <th>cuisine_num</th>\n",
       "    </tr>\n",
       "  </thead>\n",
       "  <tbody>\n",
       "    <tr>\n",
       "      <th>9995</th>\n",
       "      <td>[large eggs, fresh parsley leaves, heavy cream...</td>\n",
       "      <td>14</td>\n",
       "      <td>[large, egg, fresh, parsley, leaf, heavy_cream...</td>\n",
       "      <td>7</td>\n",
       "    </tr>\n",
       "    <tr>\n",
       "      <th>9996</th>\n",
       "      <td>[dried oregano, wheat flour, canola oil, olive...</td>\n",
       "      <td>25</td>\n",
       "      <td>[dried_oregano, wheat, flour, canola, olive, s...</td>\n",
       "      <td>5</td>\n",
       "    </tr>\n",
       "    <tr>\n",
       "      <th>9997</th>\n",
       "      <td>[eggs, green chilies, salt, monterey jack, flo...</td>\n",
       "      <td>8</td>\n",
       "      <td>[egg, green, chilies, salt, monterey, jack, fl...</td>\n",
       "      <td>7</td>\n",
       "    </tr>\n",
       "    <tr>\n",
       "      <th>9998</th>\n",
       "      <td>['paprika', 'vegetable oil', 'salt', 'ground g...</td>\n",
       "      <td>14</td>\n",
       "      <td>[paprika, vegetable, salt, ground, ginger, wat...</td>\n",
       "      <td>5</td>\n",
       "    </tr>\n",
       "    <tr>\n",
       "      <th>9999</th>\n",
       "      <td>[apricot nectar, salt, garlic powder, pork cho...</td>\n",
       "      <td>8</td>\n",
       "      <td>[apricot_nectar, salt, garlic, powder, pork_ch...</td>\n",
       "      <td>5</td>\n",
       "    </tr>\n",
       "  </tbody>\n",
       "</table>\n",
       "</div>"
      ],
      "text/plain": [
       "                                            ingredients  \\\n",
       "9995  [large eggs, fresh parsley leaves, heavy cream...   \n",
       "9996  [dried oregano, wheat flour, canola oil, olive...   \n",
       "9997  [eggs, green chilies, salt, monterey jack, flo...   \n",
       "9998  ['paprika', 'vegetable oil', 'salt', 'ground g...   \n",
       "9999  [apricot nectar, salt, garlic powder, pork cho...   \n",
       "\n",
       "      number_of_ingredients  \\\n",
       "9995                     14   \n",
       "9996                     25   \n",
       "9997                      8   \n",
       "9998                     14   \n",
       "9999                      8   \n",
       "\n",
       "                                  tokenized_ingredients  cuisine_num  \n",
       "9995  [large, egg, fresh, parsley, leaf, heavy_cream...            7  \n",
       "9996  [dried_oregano, wheat, flour, canola, olive, s...            5  \n",
       "9997  [egg, green, chilies, salt, monterey, jack, fl...            7  \n",
       "9998  [paprika, vegetable, salt, ground, ginger, wat...            5  \n",
       "9999  [apricot_nectar, salt, garlic, powder, pork_ch...            5  "
      ]
     },
     "execution_count": 175,
     "metadata": {},
     "output_type": "execute_result"
    }
   ],
   "source": [
    "# extract the topic number with highest probabilty for each recipe\n",
    "topic_num = []\n",
    "for topic in topics:\n",
    "    max_topic = 0\n",
    "    max_val = 0\n",
    "    for i in range(len(topic)):\n",
    "        if topic[i][1]>max_val:\n",
    "            max_val = topic[i][1]\n",
    "            max_topic = topic[i][0]\n",
    "    topic_num.append(max_topic)\n",
    "            \n",
    "# add topic numbers to pandas dataframe as cuisine number\n",
    "df['cuisine_num'] = topic_num\n",
    "df.tail()"
   ]
  },
  {
   "cell_type": "code",
   "execution_count": 211,
   "metadata": {},
   "outputs": [
    {
     "name": "stdout",
     "output_type": "stream",
     "text": [
      "Recipe 0: onions, avocado, salt, coconut cream, cumin seed, tumeric, coconut oil, ginger, red chile powder, daal, chile pepper, garam masala, grated coconut, lime, lime juice, mustard seeds, tomatoes, spinach, garlic, cilantro leaves\n",
      "\n",
      "\n",
      "Recipe 1: frozen spinach, lemon, tomato paste, tumeric, mustard seeds, sour cream, paprika, salt, cinnamon sticks, zucchini, ground coriander, ground cumin, boneless skinless chicken, tomatoes, minced garlic, chopped cilantro, clove, chutney, grapeseed oil, onions, garam masala, chickpeas, curry leaves, baby potatoes, cumin seed, minced ginger\n",
      "\n",
      "\n",
      "Recipe 2: szechwan peppercorns, clove, fennel seeds, ground cinnamon, star anise\n",
      "\n",
      "\n",
      "Recipe 3: cinnamon, coriander seeds, black peppercorns, mace, grated nutmeg, green cardamom, bay leaves, cumin seed, whole cloves, chiles\n",
      "\n",
      "\n",
      "Recipe 4: chili powder, salt, ground turmeric, cinnamon, mustard seeds, cumin seed, water, tomatoes, bay leaves, onions, coconut, clove, black peppercorns, garam masala, curry leaves, star anise, green cardamom, coriander powder, coconut oil, cilantro leaves, eggs, garlic paste\n",
      "\n",
      "\n",
      "Recipe 5: peppercorns, ghee, cinnamon sticks, onions, chicken, tumeric, Biryani Masala, mace, red chili powder, tomatoes, saffron, clove, green cardamom, mint leaves, basmati rice, cilantro leaves, potatoes, spices, garlic paste, green chilies, shahi jeera, coriander seeds, leaves, yoghurt, salt\n",
      "\n",
      "\n",
      "Recipe 6: jaggery, ground cardamom, grated coconut, cumin seed, water, parboiled rice\n",
      "\n",
      "\n",
      "Recipe 7: cumin seed, oil, cardamom pods, basmati rice, chicken stock, cinnamon sticks, onions\n",
      "\n",
      "\n",
      "Recipe 8: cumin seed, ginger, chili powder, fenugreek leaves, yellow onion, pepper, coriander seeds, boneless chicken skinless thigh, garam masala, ghee, tomato purée, water, yoghurt, unsalted butter, garlic, chopped cilantro, heavy cream, salt\n",
      "\n",
      "\n",
      "Recipe 9: salt, sweet potatoes, mustard seeds, red chili peppers, garam masala, chili powder, oil, curry leaves, water, coconut milk, coriander powder, onions\n",
      "\n",
      "\n"
     ]
    }
   ],
   "source": [
    "# Cusine 6 appears to be indian cuisine. Check if the recipes classified as cuisine 6 have indian ingredients\n",
    "indian_recipes = df[df['cuisine_num']==6]['ingredients']\n",
    "for i in range(10):\n",
    "    print('Recipe ' + str(i) + ': ' + ', '.join(indian_recipes.iloc[i]))\n",
    "    print('\\n')"
   ]
  },
  {
   "cell_type": "code",
   "execution_count": null,
   "metadata": {},
   "outputs": [],
   "source": []
  }
 ],
 "metadata": {
  "kernelspec": {
   "display_name": "Python 3",
   "language": "python",
   "name": "python3"
  },
  "language_info": {
   "codemirror_mode": {
    "name": "ipython",
    "version": 3
   },
   "file_extension": ".py",
   "mimetype": "text/x-python",
   "name": "python",
   "nbconvert_exporter": "python",
   "pygments_lexer": "ipython3",
   "version": "3.7.4"
  }
 },
 "nbformat": 4,
 "nbformat_minor": 4
}
